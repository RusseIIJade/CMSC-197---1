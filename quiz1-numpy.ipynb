{
 "cells": [
  {
   "cell_type": "markdown",
   "id": "68765960",
   "metadata": {},
   "source": [
    "# QUIZ 1\n",
    "Submitted by Russel Jade Tumanon"
   ]
  },
  {
   "cell_type": "markdown",
   "id": "1e3547b3",
   "metadata": {},
   "source": [
    "# Part 1"
   ]
  },
  {
   "cell_type": "code",
   "execution_count": 1,
   "id": "eac26b07",
   "metadata": {},
   "outputs": [],
   "source": [
    "import numpy as np"
   ]
  },
  {
   "cell_type": "markdown",
   "id": "f3333eaa",
   "metadata": {},
   "source": [
    "# Creating y_hat and y arrays"
   ]
  },
  {
   "cell_type": "markdown",
   "id": "ba7c325a",
   "metadata": {},
   "source": [
    "Initializing y_hat with 20 linearly spaced numbers between -1 and 1."
   ]
  },
  {
   "cell_type": "code",
   "execution_count": 2,
   "id": "93d6004d",
   "metadata": {},
   "outputs": [],
   "source": [
    "y_hat = np.linspace(-1, 1, num = 20)"
   ]
  },
  {
   "cell_type": "markdown",
   "id": "93a1ae97",
   "metadata": {},
   "source": [
    "Initializing y with 20 linearly spaced numbers between 0 and 1."
   ]
  },
  {
   "cell_type": "code",
   "execution_count": 3,
   "id": "304e9f71",
   "metadata": {},
   "outputs": [],
   "source": [
    "y = np.linspace(0, 1, num = 20)"
   ]
  },
  {
   "cell_type": "markdown",
   "id": "18395029",
   "metadata": {},
   "source": [
    "# Shape and Dimension"
   ]
  },
  {
   "cell_type": "markdown",
   "id": "0de25333",
   "metadata": {},
   "source": [
    "Shape of y_hat"
   ]
  },
  {
   "cell_type": "code",
   "execution_count": 4,
   "id": "a18809ba",
   "metadata": {},
   "outputs": [
    {
     "data": {
      "text/plain": [
       "(20,)"
      ]
     },
     "execution_count": 4,
     "metadata": {},
     "output_type": "execute_result"
    }
   ],
   "source": [
    "y_hat.shape"
   ]
  },
  {
   "cell_type": "markdown",
   "id": "b9eb15e3",
   "metadata": {},
   "source": [
    "Shape of y"
   ]
  },
  {
   "cell_type": "code",
   "execution_count": 5,
   "id": "f56800ca",
   "metadata": {},
   "outputs": [
    {
     "data": {
      "text/plain": [
       "(20,)"
      ]
     },
     "execution_count": 5,
     "metadata": {},
     "output_type": "execute_result"
    }
   ],
   "source": [
    "y.shape"
   ]
  },
  {
   "cell_type": "markdown",
   "id": "6951402f",
   "metadata": {},
   "source": [
    "Dimension of y_hat"
   ]
  },
  {
   "cell_type": "code",
   "execution_count": 6,
   "id": "8ff99f37",
   "metadata": {},
   "outputs": [
    {
     "data": {
      "text/plain": [
       "1"
      ]
     },
     "execution_count": 6,
     "metadata": {},
     "output_type": "execute_result"
    }
   ],
   "source": [
    "y_hat.ndim"
   ]
  },
  {
   "cell_type": "markdown",
   "id": "c0591438",
   "metadata": {},
   "source": [
    "Dimension of y"
   ]
  },
  {
   "cell_type": "code",
   "execution_count": 7,
   "id": "b08d2475",
   "metadata": {},
   "outputs": [
    {
     "data": {
      "text/plain": [
       "1"
      ]
     },
     "execution_count": 7,
     "metadata": {},
     "output_type": "execute_result"
    }
   ],
   "source": [
    "y.ndim"
   ]
  },
  {
   "cell_type": "markdown",
   "id": "a6870d96",
   "metadata": {},
   "source": [
    "#  Loss Functions"
   ]
  },
  {
   "cell_type": "markdown",
   "id": "3bf96dcb",
   "metadata": {},
   "source": [
    "# Mean Squared Error (MSE)"
   ]
  },
  {
   "cell_type": "code",
   "execution_count": 8,
   "id": "45795cba",
   "metadata": {},
   "outputs": [
    {
     "data": {
      "text/plain": [
       "0.3421052631578948"
      ]
     },
     "execution_count": 8,
     "metadata": {},
     "output_type": "execute_result"
    }
   ],
   "source": [
    "def mse(y, y_hat):\n",
    "    \n",
    "    #Formula for the Mean Squared Error\n",
    "    #L = loss value\n",
    "    L = np.square(np.subtract(y_hat, y)).mean()\n",
    "\n",
    "    return L\n",
    "\n",
    "mse(y, y_hat)"
   ]
  },
  {
   "cell_type": "markdown",
   "id": "9b410683",
   "metadata": {},
   "source": [
    "# Mean Absolute Error (MAE)"
   ]
  },
  {
   "cell_type": "code",
   "execution_count": 9,
   "id": "8bdd466f",
   "metadata": {},
   "outputs": [
    {
     "data": {
      "text/plain": [
       "0.4999999999999999"
      ]
     },
     "execution_count": 9,
     "metadata": {},
     "output_type": "execute_result"
    }
   ],
   "source": [
    "def mae(y, y_hat):\n",
    "\n",
    "    #Formula for Mean Absolute Error\n",
    "    #L = loss value\n",
    "    L = np.abs(np.subtract(y_hat, y)).mean()\n",
    "\n",
    "    return L\n",
    "\n",
    "mae(y, y_hat)"
   ]
  },
  {
   "cell_type": "markdown",
   "id": "1dd526d3",
   "metadata": {},
   "source": [
    "# Mean Squared Logarithmic Error (MSLE)"
   ]
  },
  {
   "cell_type": "code",
   "execution_count": 10,
   "id": "f3120f4f",
   "metadata": {},
   "outputs": [
    {
     "name": "stdout",
     "output_type": "stream",
     "text": [
      "Negative values detected! We cannot use MSLE when targets contain negative values.\n"
     ]
    }
   ],
   "source": [
    "def msle(y, y_hat):\n",
    "    \n",
    "    #If the target is never zero, we can drop the addition of 1 in the logarithm\n",
    "    #L = loss value\n",
    "    if all(i > 0 for i in y_hat) and all(j > 0 for j in y):\n",
    "        L = np.square(np.subtract(np.log(y_hat), np.log(y))).mean()\n",
    "        return L\n",
    "    \n",
    "    #Target variable should be non-negative but can also be equal to zero\n",
    "    elif all(i >= 0 for i in y_hat) and all(j >= 0 for j in y):\n",
    "        L = np.square(np.subtract(np.log(y_hat + 1 ), np.log(y + 1))).mean()\n",
    "        return L\n",
    "    else:\n",
    "        print(\"Negative values detected! We cannot use MSLE when targets contain negative values.\")\n",
    "\n",
    "msle(y, y_hat)"
   ]
  },
  {
   "cell_type": "markdown",
   "id": "f8ab8711",
   "metadata": {},
   "source": [
    "# Mean Absolute Percentage Error (MAPE)"
   ]
  },
  {
   "cell_type": "code",
   "execution_count": 11,
   "id": "6270099b",
   "metadata": {},
   "outputs": [
    {
     "name": "stdout",
     "output_type": "stream",
     "text": [
      "Infinity%. The denominator is 0.\n"
     ]
    }
   ],
   "source": [
    "def mae(y, y_hat):\n",
    "    \n",
    "    #Checks if the denominator is 0\n",
    "    #L = loss value\n",
    "    if y.all() == 0:\n",
    "        print(\"Infinity%. The denominator is 0.\")\n",
    "\n",
    "    else:\n",
    "        L = (np.abs((y_hat-y)/y)).mean()*100\n",
    "        return L\n",
    "\n",
    "mae(y, y_hat)"
   ]
  },
  {
   "cell_type": "markdown",
   "id": "5d1a4665",
   "metadata": {},
   "source": [
    "# Part 2"
   ]
  },
  {
   "cell_type": "markdown",
   "id": "577daa51",
   "metadata": {},
   "source": [
    "# Arange and Reshape"
   ]
  },
  {
   "cell_type": "markdown",
   "id": "cf04f536",
   "metadata": {},
   "source": [
    "# Arange function"
   ]
  },
  {
   "cell_type": "markdown",
   "id": "07d1b46f",
   "metadata": {},
   "source": [
    "Creating 1d array M using the arange function."
   ]
  },
  {
   "cell_type": "code",
   "execution_count": 12,
   "id": "66f2fd66",
   "metadata": {},
   "outputs": [],
   "source": [
    "M = np.arange(1,17)"
   ]
  },
  {
   "cell_type": "markdown",
   "id": "fcfd78d1",
   "metadata": {},
   "source": [
    "# Reshaping Array"
   ]
  },
  {
   "cell_type": "markdown",
   "id": "629ac546",
   "metadata": {},
   "source": [
    "Reshaping M into 4x4 array and storing it to N."
   ]
  },
  {
   "cell_type": "code",
   "execution_count": 13,
   "id": "71d1da61",
   "metadata": {},
   "outputs": [],
   "source": [
    "N = M.reshape(4,4)"
   ]
  },
  {
   "cell_type": "markdown",
   "id": "c4955a24",
   "metadata": {},
   "source": [
    "# Row and Column"
   ]
  },
  {
   "cell_type": "markdown",
   "id": "1f2a4699",
   "metadata": {},
   "source": [
    "Getting the 2nd row of N."
   ]
  },
  {
   "cell_type": "code",
   "execution_count": 14,
   "id": "d212f24a",
   "metadata": {},
   "outputs": [
    {
     "data": {
      "text/plain": [
       "array([5, 6, 7, 8])"
      ]
     },
     "execution_count": 14,
     "metadata": {},
     "output_type": "execute_result"
    }
   ],
   "source": [
    "N[1]"
   ]
  },
  {
   "cell_type": "markdown",
   "id": "62991649",
   "metadata": {},
   "source": [
    "Getting the minimum values for each column of N."
   ]
  },
  {
   "cell_type": "code",
   "execution_count": 15,
   "id": "808032d6",
   "metadata": {},
   "outputs": [
    {
     "data": {
      "text/plain": [
       "array([1, 2, 3, 4])"
      ]
     },
     "execution_count": 15,
     "metadata": {},
     "output_type": "execute_result"
    }
   ],
   "source": [
    "np.min(N, axis = 0)"
   ]
  },
  {
   "cell_type": "markdown",
   "id": "0aadd818",
   "metadata": {},
   "source": [
    "Getting the locations (index) of the minimum values for each column of N."
   ]
  },
  {
   "cell_type": "code",
   "execution_count": 16,
   "id": "55d364fa",
   "metadata": {},
   "outputs": [
    {
     "name": "stdout",
     "output_type": "stream",
     "text": [
      "[0 1 2 3]\n"
     ]
    }
   ],
   "source": [
    "N_min = np.where(np.min(N, axis = 0))\n",
    "\n",
    "#printing each index respectively separated by space\n",
    "for i in N_min:\n",
    "    print(i)"
   ]
  },
  {
   "cell_type": "markdown",
   "id": "0e82890b",
   "metadata": {},
   "source": [
    "# Vector and Matrix"
   ]
  },
  {
   "cell_type": "markdown",
   "id": "9edfe056",
   "metadata": {},
   "source": [
    "Getting the average of the whole matrix."
   ]
  },
  {
   "cell_type": "code",
   "execution_count": 17,
   "id": "59670944",
   "metadata": {},
   "outputs": [
    {
     "data": {
      "text/plain": [
       "8.5"
      ]
     },
     "execution_count": 17,
     "metadata": {},
     "output_type": "execute_result"
    }
   ],
   "source": [
    "np.mean(N)"
   ]
  },
  {
   "cell_type": "markdown",
   "id": "0299b944",
   "metadata": {},
   "source": [
    "Creating a vector V with 4 elements, all 1."
   ]
  },
  {
   "cell_type": "code",
   "execution_count": 18,
   "id": "18f81294",
   "metadata": {},
   "outputs": [],
   "source": [
    "lst = [1,1,1,1]\n",
    "V = np.array(lst)"
   ]
  },
  {
   "cell_type": "markdown",
   "id": "3143f161",
   "metadata": {},
   "source": [
    " Dot product of N and V"
   ]
  },
  {
   "cell_type": "code",
   "execution_count": 19,
   "id": "f15eee3b",
   "metadata": {},
   "outputs": [
    {
     "data": {
      "text/plain": [
       "array([10, 26, 42, 58])"
      ]
     },
     "execution_count": 19,
     "metadata": {},
     "output_type": "execute_result"
    }
   ],
   "source": [
    "np.dot(N, V)"
   ]
  },
  {
   "cell_type": "markdown",
   "id": "8f519159",
   "metadata": {},
   "source": [
    "# ---END OF QUIZ 1---"
   ]
  }
 ],
 "metadata": {
  "kernelspec": {
   "display_name": "Python 3 (ipykernel)",
   "language": "python",
   "name": "python3"
  },
  "language_info": {
   "codemirror_mode": {
    "name": "ipython",
    "version": 3
   },
   "file_extension": ".py",
   "mimetype": "text/x-python",
   "name": "python",
   "nbconvert_exporter": "python",
   "pygments_lexer": "ipython3",
   "version": "3.9.12"
  }
 },
 "nbformat": 4,
 "nbformat_minor": 5
}
