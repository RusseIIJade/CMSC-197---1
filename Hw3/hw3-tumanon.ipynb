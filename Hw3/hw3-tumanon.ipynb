{
 "cells": [
  {
   "cell_type": "markdown",
   "id": "09b907ff",
   "metadata": {},
   "source": [
    "# HW3"
   ]
  },
  {
   "cell_type": "markdown",
   "id": "1b39a783",
   "metadata": {},
   "source": [
    "Submitted by Russel Jade Tumanon"
   ]
  },
  {
   "cell_type": "markdown",
   "id": "193bee07",
   "metadata": {},
   "source": [
    "# Import Libraries"
   ]
  },
  {
   "cell_type": "code",
   "execution_count": 1,
   "id": "a68b1e6d",
   "metadata": {},
   "outputs": [],
   "source": [
    "#Standard Libraries\n",
    "import numpy as np\n",
    "import pandas as pd\n",
    "import matplotlib.pyplot as plt\n",
    "import seaborn as sns\n",
    "sns.set_style(\"whitegrid\")\n",
    "sns.set_context(\"poster\")\n",
    "%matplotlib inline\n",
    "\n",
    "#For Preprocessing\n",
    "from sklearn.model_selection import train_test_split\n",
    "\n",
    "#For Building the Model\n",
    "from sklearn.linear_model import LinearRegression\n",
    "\n",
    "#For Validation of the Model\n",
    "from sklearn.metrics import r2_score, mean_absolute_error, mean_squared_error"
   ]
  },
  {
   "cell_type": "markdown",
   "id": "aa165ac7",
   "metadata": {},
   "source": [
    "# Load the Dataset"
   ]
  },
  {
   "cell_type": "code",
   "execution_count": 2,
   "id": "a8bdc7d4",
   "metadata": {},
   "outputs": [
    {
     "data": {
      "text/html": [
       "<div>\n",
       "<style scoped>\n",
       "    .dataframe tbody tr th:only-of-type {\n",
       "        vertical-align: middle;\n",
       "    }\n",
       "\n",
       "    .dataframe tbody tr th {\n",
       "        vertical-align: top;\n",
       "    }\n",
       "\n",
       "    .dataframe thead th {\n",
       "        text-align: right;\n",
       "    }\n",
       "</style>\n",
       "<table border=\"1\" class=\"dataframe\">\n",
       "  <thead>\n",
       "    <tr style=\"text-align: right;\">\n",
       "      <th></th>\n",
       "      <th>TV</th>\n",
       "      <th>radio</th>\n",
       "      <th>newspaper</th>\n",
       "      <th>sales</th>\n",
       "    </tr>\n",
       "  </thead>\n",
       "  <tbody>\n",
       "    <tr>\n",
       "      <th>1</th>\n",
       "      <td>230.1</td>\n",
       "      <td>37.8</td>\n",
       "      <td>69.2</td>\n",
       "      <td>22.1</td>\n",
       "    </tr>\n",
       "    <tr>\n",
       "      <th>2</th>\n",
       "      <td>44.5</td>\n",
       "      <td>39.3</td>\n",
       "      <td>45.1</td>\n",
       "      <td>10.4</td>\n",
       "    </tr>\n",
       "    <tr>\n",
       "      <th>3</th>\n",
       "      <td>17.2</td>\n",
       "      <td>45.9</td>\n",
       "      <td>69.3</td>\n",
       "      <td>9.3</td>\n",
       "    </tr>\n",
       "    <tr>\n",
       "      <th>4</th>\n",
       "      <td>151.5</td>\n",
       "      <td>41.3</td>\n",
       "      <td>58.5</td>\n",
       "      <td>18.5</td>\n",
       "    </tr>\n",
       "    <tr>\n",
       "      <th>5</th>\n",
       "      <td>180.8</td>\n",
       "      <td>10.8</td>\n",
       "      <td>58.4</td>\n",
       "      <td>12.9</td>\n",
       "    </tr>\n",
       "  </tbody>\n",
       "</table>\n",
       "</div>"
      ],
      "text/plain": [
       "      TV  radio  newspaper  sales\n",
       "1  230.1   37.8       69.2   22.1\n",
       "2   44.5   39.3       45.1   10.4\n",
       "3   17.2   45.9       69.3    9.3\n",
       "4  151.5   41.3       58.5   18.5\n",
       "5  180.8   10.8       58.4   12.9"
      ]
     },
     "execution_count": 2,
     "metadata": {},
     "output_type": "execute_result"
    }
   ],
   "source": [
    "# Load the Advertising.csv dataset as df\n",
    "df = pd.read_csv(\"Advertising.csv\", index_col = 0)\n",
    "df.head()"
   ]
  },
  {
   "cell_type": "markdown",
   "id": "19c523df",
   "metadata": {},
   "source": [
    "# Standardize"
   ]
  },
  {
   "cell_type": "code",
   "execution_count": 3,
   "id": "764d8c3d",
   "metadata": {},
   "outputs": [
    {
     "data": {
      "text/html": [
       "<div>\n",
       "<style scoped>\n",
       "    .dataframe tbody tr th:only-of-type {\n",
       "        vertical-align: middle;\n",
       "    }\n",
       "\n",
       "    .dataframe tbody tr th {\n",
       "        vertical-align: top;\n",
       "    }\n",
       "\n",
       "    .dataframe thead th {\n",
       "        text-align: right;\n",
       "    }\n",
       "</style>\n",
       "<table border=\"1\" class=\"dataframe\">\n",
       "  <thead>\n",
       "    <tr style=\"text-align: right;\">\n",
       "      <th></th>\n",
       "      <th>TV</th>\n",
       "      <th>radio</th>\n",
       "      <th>newspaper</th>\n",
       "      <th>sales</th>\n",
       "    </tr>\n",
       "  </thead>\n",
       "  <tbody>\n",
       "    <tr>\n",
       "      <th>1</th>\n",
       "      <td>0.967425</td>\n",
       "      <td>0.979066</td>\n",
       "      <td>1.774493</td>\n",
       "      <td>1.548168</td>\n",
       "    </tr>\n",
       "    <tr>\n",
       "      <th>2</th>\n",
       "      <td>-1.194379</td>\n",
       "      <td>1.080097</td>\n",
       "      <td>0.667903</td>\n",
       "      <td>-0.694304</td>\n",
       "    </tr>\n",
       "    <tr>\n",
       "      <th>3</th>\n",
       "      <td>-1.512360</td>\n",
       "      <td>1.524637</td>\n",
       "      <td>1.779084</td>\n",
       "      <td>-0.905135</td>\n",
       "    </tr>\n",
       "    <tr>\n",
       "      <th>4</th>\n",
       "      <td>0.051919</td>\n",
       "      <td>1.214806</td>\n",
       "      <td>1.283185</td>\n",
       "      <td>0.858177</td>\n",
       "    </tr>\n",
       "    <tr>\n",
       "      <th>5</th>\n",
       "      <td>0.393196</td>\n",
       "      <td>-0.839507</td>\n",
       "      <td>1.278593</td>\n",
       "      <td>-0.215143</td>\n",
       "    </tr>\n",
       "    <tr>\n",
       "      <th>...</th>\n",
       "      <td>...</td>\n",
       "      <td>...</td>\n",
       "      <td>...</td>\n",
       "      <td>...</td>\n",
       "    </tr>\n",
       "    <tr>\n",
       "      <th>196</th>\n",
       "      <td>-1.267759</td>\n",
       "      <td>-1.317724</td>\n",
       "      <td>-0.769287</td>\n",
       "      <td>-1.230964</td>\n",
       "    </tr>\n",
       "    <tr>\n",
       "      <th>197</th>\n",
       "      <td>-0.615491</td>\n",
       "      <td>-1.236899</td>\n",
       "      <td>-1.031011</td>\n",
       "      <td>-0.828469</td>\n",
       "    </tr>\n",
       "    <tr>\n",
       "      <th>198</th>\n",
       "      <td>0.348934</td>\n",
       "      <td>-0.940539</td>\n",
       "      <td>-1.109069</td>\n",
       "      <td>-0.234310</td>\n",
       "    </tr>\n",
       "    <tr>\n",
       "      <th>199</th>\n",
       "      <td>1.590574</td>\n",
       "      <td>1.261955</td>\n",
       "      <td>1.636743</td>\n",
       "      <td>2.199827</td>\n",
       "    </tr>\n",
       "    <tr>\n",
       "      <th>200</th>\n",
       "      <td>0.990720</td>\n",
       "      <td>-0.987687</td>\n",
       "      <td>-1.003461</td>\n",
       "      <td>-0.119311</td>\n",
       "    </tr>\n",
       "  </tbody>\n",
       "</table>\n",
       "<p>200 rows × 4 columns</p>\n",
       "</div>"
      ],
      "text/plain": [
       "           TV     radio  newspaper     sales\n",
       "1    0.967425  0.979066   1.774493  1.548168\n",
       "2   -1.194379  1.080097   0.667903 -0.694304\n",
       "3   -1.512360  1.524637   1.779084 -0.905135\n",
       "4    0.051919  1.214806   1.283185  0.858177\n",
       "5    0.393196 -0.839507   1.278593 -0.215143\n",
       "..        ...       ...        ...       ...\n",
       "196 -1.267759 -1.317724  -0.769287 -1.230964\n",
       "197 -0.615491 -1.236899  -1.031011 -0.828469\n",
       "198  0.348934 -0.940539  -1.109069 -0.234310\n",
       "199  1.590574  1.261955   1.636743  2.199827\n",
       "200  0.990720 -0.987687  -1.003461 -0.119311\n",
       "\n",
       "[200 rows x 4 columns]"
      ]
     },
     "execution_count": 3,
     "metadata": {},
     "output_type": "execute_result"
    }
   ],
   "source": [
    "#Standardize each column\n",
    "\n",
    "df_col= df[df.columns]\n",
    "\n",
    "#Standard deviation\n",
    "df_std = df_col.std()\n",
    "#Mean\n",
    "df_mean = df_col.mean()\n",
    "\n",
    "df[df.columns] = (df_col-df_mean)/df_std \n",
    "\n",
    "df"
   ]
  },
  {
   "cell_type": "markdown",
   "id": "129dd8e7",
   "metadata": {},
   "source": [
    "# Drop and add a Column"
   ]
  },
  {
   "cell_type": "code",
   "execution_count": 4,
   "id": "95f067da",
   "metadata": {},
   "outputs": [
    {
     "data": {
      "text/html": [
       "<div>\n",
       "<style scoped>\n",
       "    .dataframe tbody tr th:only-of-type {\n",
       "        vertical-align: middle;\n",
       "    }\n",
       "\n",
       "    .dataframe tbody tr th {\n",
       "        vertical-align: top;\n",
       "    }\n",
       "\n",
       "    .dataframe thead th {\n",
       "        text-align: right;\n",
       "    }\n",
       "</style>\n",
       "<table border=\"1\" class=\"dataframe\">\n",
       "  <thead>\n",
       "    <tr style=\"text-align: right;\">\n",
       "      <th></th>\n",
       "      <th>X</th>\n",
       "      <th>TV</th>\n",
       "      <th>radio</th>\n",
       "      <th>newspaper</th>\n",
       "      <th>sales</th>\n",
       "    </tr>\n",
       "  </thead>\n",
       "  <tbody>\n",
       "    <tr>\n",
       "      <th>1</th>\n",
       "      <td>1</td>\n",
       "      <td>0.967425</td>\n",
       "      <td>0.979066</td>\n",
       "      <td>1.774493</td>\n",
       "      <td>1.548168</td>\n",
       "    </tr>\n",
       "    <tr>\n",
       "      <th>2</th>\n",
       "      <td>1</td>\n",
       "      <td>-1.194379</td>\n",
       "      <td>1.080097</td>\n",
       "      <td>0.667903</td>\n",
       "      <td>-0.694304</td>\n",
       "    </tr>\n",
       "    <tr>\n",
       "      <th>3</th>\n",
       "      <td>1</td>\n",
       "      <td>-1.512360</td>\n",
       "      <td>1.524637</td>\n",
       "      <td>1.779084</td>\n",
       "      <td>-0.905135</td>\n",
       "    </tr>\n",
       "    <tr>\n",
       "      <th>4</th>\n",
       "      <td>1</td>\n",
       "      <td>0.051919</td>\n",
       "      <td>1.214806</td>\n",
       "      <td>1.283185</td>\n",
       "      <td>0.858177</td>\n",
       "    </tr>\n",
       "    <tr>\n",
       "      <th>5</th>\n",
       "      <td>1</td>\n",
       "      <td>0.393196</td>\n",
       "      <td>-0.839507</td>\n",
       "      <td>1.278593</td>\n",
       "      <td>-0.215143</td>\n",
       "    </tr>\n",
       "    <tr>\n",
       "      <th>...</th>\n",
       "      <td>...</td>\n",
       "      <td>...</td>\n",
       "      <td>...</td>\n",
       "      <td>...</td>\n",
       "      <td>...</td>\n",
       "    </tr>\n",
       "    <tr>\n",
       "      <th>196</th>\n",
       "      <td>1</td>\n",
       "      <td>-1.267759</td>\n",
       "      <td>-1.317724</td>\n",
       "      <td>-0.769287</td>\n",
       "      <td>-1.230964</td>\n",
       "    </tr>\n",
       "    <tr>\n",
       "      <th>197</th>\n",
       "      <td>1</td>\n",
       "      <td>-0.615491</td>\n",
       "      <td>-1.236899</td>\n",
       "      <td>-1.031011</td>\n",
       "      <td>-0.828469</td>\n",
       "    </tr>\n",
       "    <tr>\n",
       "      <th>198</th>\n",
       "      <td>1</td>\n",
       "      <td>0.348934</td>\n",
       "      <td>-0.940539</td>\n",
       "      <td>-1.109069</td>\n",
       "      <td>-0.234310</td>\n",
       "    </tr>\n",
       "    <tr>\n",
       "      <th>199</th>\n",
       "      <td>1</td>\n",
       "      <td>1.590574</td>\n",
       "      <td>1.261955</td>\n",
       "      <td>1.636743</td>\n",
       "      <td>2.199827</td>\n",
       "    </tr>\n",
       "    <tr>\n",
       "      <th>200</th>\n",
       "      <td>1</td>\n",
       "      <td>0.990720</td>\n",
       "      <td>-0.987687</td>\n",
       "      <td>-1.003461</td>\n",
       "      <td>-0.119311</td>\n",
       "    </tr>\n",
       "  </tbody>\n",
       "</table>\n",
       "<p>200 rows × 5 columns</p>\n",
       "</div>"
      ],
      "text/plain": [
       "     X        TV     radio  newspaper     sales\n",
       "1    1  0.967425  0.979066   1.774493  1.548168\n",
       "2    1 -1.194379  1.080097   0.667903 -0.694304\n",
       "3    1 -1.512360  1.524637   1.779084 -0.905135\n",
       "4    1  0.051919  1.214806   1.283185  0.858177\n",
       "5    1  0.393196 -0.839507   1.278593 -0.215143\n",
       "..  ..       ...       ...        ...       ...\n",
       "196  1 -1.267759 -1.317724  -0.769287 -1.230964\n",
       "197  1 -0.615491 -1.236899  -1.031011 -0.828469\n",
       "198  1  0.348934 -0.940539  -1.109069 -0.234310\n",
       "199  1  1.590574  1.261955   1.636743  2.199827\n",
       "200  1  0.990720 -0.987687  -1.003461 -0.119311\n",
       "\n",
       "[200 rows x 5 columns]"
      ]
     },
     "execution_count": 4,
     "metadata": {},
     "output_type": "execute_result"
    }
   ],
   "source": [
    "#Adding an extra column x, composing of all ones\n",
    "df.insert(0,'X',[1]*len(df))\n",
    "\n",
    "df"
   ]
  },
  {
   "cell_type": "code",
   "execution_count": 5,
   "id": "dbe5c1c8",
   "metadata": {},
   "outputs": [
    {
     "data": {
      "text/html": [
       "<div>\n",
       "<style scoped>\n",
       "    .dataframe tbody tr th:only-of-type {\n",
       "        vertical-align: middle;\n",
       "    }\n",
       "\n",
       "    .dataframe tbody tr th {\n",
       "        vertical-align: top;\n",
       "    }\n",
       "\n",
       "    .dataframe thead th {\n",
       "        text-align: right;\n",
       "    }\n",
       "</style>\n",
       "<table border=\"1\" class=\"dataframe\">\n",
       "  <thead>\n",
       "    <tr style=\"text-align: right;\">\n",
       "      <th></th>\n",
       "      <th>X</th>\n",
       "      <th>TV</th>\n",
       "      <th>radio</th>\n",
       "      <th>newspaper</th>\n",
       "    </tr>\n",
       "  </thead>\n",
       "  <tbody>\n",
       "    <tr>\n",
       "      <th>1</th>\n",
       "      <td>1</td>\n",
       "      <td>0.967425</td>\n",
       "      <td>0.979066</td>\n",
       "      <td>1.774493</td>\n",
       "    </tr>\n",
       "    <tr>\n",
       "      <th>2</th>\n",
       "      <td>1</td>\n",
       "      <td>-1.194379</td>\n",
       "      <td>1.080097</td>\n",
       "      <td>0.667903</td>\n",
       "    </tr>\n",
       "    <tr>\n",
       "      <th>3</th>\n",
       "      <td>1</td>\n",
       "      <td>-1.512360</td>\n",
       "      <td>1.524637</td>\n",
       "      <td>1.779084</td>\n",
       "    </tr>\n",
       "    <tr>\n",
       "      <th>4</th>\n",
       "      <td>1</td>\n",
       "      <td>0.051919</td>\n",
       "      <td>1.214806</td>\n",
       "      <td>1.283185</td>\n",
       "    </tr>\n",
       "    <tr>\n",
       "      <th>5</th>\n",
       "      <td>1</td>\n",
       "      <td>0.393196</td>\n",
       "      <td>-0.839507</td>\n",
       "      <td>1.278593</td>\n",
       "    </tr>\n",
       "    <tr>\n",
       "      <th>...</th>\n",
       "      <td>...</td>\n",
       "      <td>...</td>\n",
       "      <td>...</td>\n",
       "      <td>...</td>\n",
       "    </tr>\n",
       "    <tr>\n",
       "      <th>196</th>\n",
       "      <td>1</td>\n",
       "      <td>-1.267759</td>\n",
       "      <td>-1.317724</td>\n",
       "      <td>-0.769287</td>\n",
       "    </tr>\n",
       "    <tr>\n",
       "      <th>197</th>\n",
       "      <td>1</td>\n",
       "      <td>-0.615491</td>\n",
       "      <td>-1.236899</td>\n",
       "      <td>-1.031011</td>\n",
       "    </tr>\n",
       "    <tr>\n",
       "      <th>198</th>\n",
       "      <td>1</td>\n",
       "      <td>0.348934</td>\n",
       "      <td>-0.940539</td>\n",
       "      <td>-1.109069</td>\n",
       "    </tr>\n",
       "    <tr>\n",
       "      <th>199</th>\n",
       "      <td>1</td>\n",
       "      <td>1.590574</td>\n",
       "      <td>1.261955</td>\n",
       "      <td>1.636743</td>\n",
       "    </tr>\n",
       "    <tr>\n",
       "      <th>200</th>\n",
       "      <td>1</td>\n",
       "      <td>0.990720</td>\n",
       "      <td>-0.987687</td>\n",
       "      <td>-1.003461</td>\n",
       "    </tr>\n",
       "  </tbody>\n",
       "</table>\n",
       "<p>200 rows × 4 columns</p>\n",
       "</div>"
      ],
      "text/plain": [
       "     X        TV     radio  newspaper\n",
       "1    1  0.967425  0.979066   1.774493\n",
       "2    1 -1.194379  1.080097   0.667903\n",
       "3    1 -1.512360  1.524637   1.779084\n",
       "4    1  0.051919  1.214806   1.283185\n",
       "5    1  0.393196 -0.839507   1.278593\n",
       "..  ..       ...       ...        ...\n",
       "196  1 -1.267759 -1.317724  -0.769287\n",
       "197  1 -0.615491 -1.236899  -1.031011\n",
       "198  1  0.348934 -0.940539  -1.109069\n",
       "199  1  1.590574  1.261955   1.636743\n",
       "200  1  0.990720 -0.987687  -1.003461\n",
       "\n",
       "[200 rows x 4 columns]"
      ]
     },
     "execution_count": 5,
     "metadata": {},
     "output_type": "execute_result"
    }
   ],
   "source": [
    "#Dropping sales\n",
    "\n",
    "x=df.drop(columns=['sales'])\n",
    "y=df['sales']\n",
    "\n",
    "x"
   ]
  },
  {
   "cell_type": "markdown",
   "id": "5d9f3aa5",
   "metadata": {},
   "source": [
    "# Dividing the Dataset into Training and Testing"
   ]
  },
  {
   "cell_type": "code",
   "execution_count": 6,
   "id": "a230d3ce",
   "metadata": {},
   "outputs": [],
   "source": [
    "#15% is allocated to the test set (I feel Like it should be 15 because if it's 25, it will ot be equal to 100)\n",
    "x_train, x_test, y_train, y_test = train_test_split(x, y, test_size=0.15, random_state=42)"
   ]
  },
  {
   "cell_type": "markdown",
   "id": "db19376a",
   "metadata": {},
   "source": [
    "# Fit the model on the training set."
   ]
  },
  {
   "cell_type": "code",
   "execution_count": 7,
   "id": "3e405fbe",
   "metadata": {},
   "outputs": [],
   "source": [
    "#Initialize weights\n",
    "def initialize_weights():\n",
    "    #Alternative\n",
    "    init_w = np.array([0.0, 0.0, 0.0, 0.0])\n",
    "    return init_w"
   ]
  },
  {
   "cell_type": "code",
   "execution_count": 8,
   "id": "105de511",
   "metadata": {},
   "outputs": [],
   "source": [
    "#Predict \n",
    "#Returns a vector of the predicted values y_hat^(i)\n",
    "def predict(x, weights): \n",
    "    return np.dot(x, weights)"
   ]
  },
  {
   "cell_type": "code",
   "execution_count": 9,
   "id": "d8c899fd",
   "metadata": {},
   "outputs": [],
   "source": [
    "#Cost \n",
    "#Returns a scalar value that tells us how accurate the model is\n",
    "def compute_cost(y,y_hat):\n",
    "    sq = np.square(y_hat-y)\n",
    "    y_shape = y.shape[0]\n",
    "    #Formula\n",
    "    cost = np.sum(sq)/(2*y_shape)\n",
    "    return cost"
   ]
  },
  {
   "cell_type": "code",
   "execution_count": 10,
   "id": "de7382cb",
   "metadata": {},
   "outputs": [],
   "source": [
    "#Gradient \n",
    "#Returns a matrix w\n",
    "def compute_gradient(x,y,y_hat,a):\n",
    "    dot_prod = np.dot(x.T,y_hat-y)\n",
    "    y_shape = y.shape[0]\n",
    "    w = a*dot_prod/y_shape\n",
    "    return w"
   ]
  },
  {
   "cell_type": "code",
   "execution_count": 11,
   "id": "2699cc85",
   "metadata": {},
   "outputs": [],
   "source": [
    "#Update the weights. \n",
    "#Returns a 4x1 matrix that contains the updated weights\n",
    "def update_weights(weights, gradient):\n",
    "    updated = weights-gradient\n",
    "    return updated"
   ]
  },
  {
   "cell_type": "code",
   "execution_count": 12,
   "id": "85c1d70f",
   "metadata": {},
   "outputs": [],
   "source": [
    "#Gradient descent. \n",
    "#Returns 2 matrices. One matrix for the weights and another for the cost values per iteration. \n",
    "def grad_descent(x, y, iterations, weights, a=0.01):\n",
    "\n",
    "    cost_list = []\n",
    "    weight_list = []\n",
    "    i=0\n",
    "    \n",
    "    while i < iterations:\n",
    "        y_hat = predict(x, weights)\n",
    "        computed_costs = compute_cost(y,y_hat)\n",
    "        cost_list.append(computed_costs)\n",
    "        \n",
    "        computed_gradient = compute_gradient(x, y, y_hat, a)\n",
    "        weights = update_weights(weights,computed_gradient)\n",
    "        weight_list.append(weights)\n",
    "        i += 1\n",
    "        \n",
    "    return cost_list, weight_list"
   ]
  },
  {
   "cell_type": "code",
   "execution_count": 13,
   "id": "b76f506a",
   "metadata": {},
   "outputs": [
    {
     "data": {
      "image/png": "[encoded data removed]",
      "text/plain": [
       "<Figure size 432x288 with 1 Axes>"
      ]
     },
     "metadata": {
      "needs_background": "light"
     },
     "output_type": "display_data"
    }
   ],
   "source": [
    "#Plot the costs as a function of iteration\n",
    "def plot_costs(cost):\n",
    "    plt.title(\"Costs Plot\")\n",
    "    plt.ylabel(\"Cost\")\n",
    "    plt.xlabel(\"Iterations\")\n",
    "    plt.plot(cost)\n",
    "    plt.show()\n",
    "    \n",
    "#Visualization\n",
    "train_weights = initialize_weights()\n",
    "train_cost, actual_weights = grad_descent(x_train, y_train, 1000, train_weights)\n",
    "plot_costs(train_cost)"
   ]
  },
  {
   "cell_type": "code",
   "execution_count": 14,
   "id": "2d8a856b",
   "metadata": {},
   "outputs": [
    {
     "name": "stdout",
     "output_type": "stream",
     "text": [
      "The Predict y train set cost is 0.051079827865479224\n"
     ]
    }
   ],
   "source": [
    "#Predict y for train set and calculate the cost\n",
    "predict_y_train = predict(x_train, actual_weights[-1])\n",
    "predict_y_train_cost = compute_cost(y_train, predict_y_train)\n",
    "print(\"The Predict y train set cost is\", predict_y_train_cost)"
   ]
  },
  {
   "cell_type": "code",
   "execution_count": 15,
   "id": "1d135abb",
   "metadata": {},
   "outputs": [
    {
     "name": "stdout",
     "output_type": "stream",
     "text": [
      "The Predict y test set cost is 0.052448649265712334\n"
     ]
    }
   ],
   "source": [
    "#Predict y for test set and calculate the cost\n",
    "predicted_y_test = predict(x_test, actual_weights[-1])\n",
    "predict_y_test_cost = compute_cost(y_test, predicted_y_test)\n",
    "print(\"The Predict y test set cost is\", predict_y_test_cost)"
   ]
  },
  {
   "cell_type": "markdown",
   "id": "a5c87367",
   "metadata": {},
   "source": [
    "# Revert data to Original Form"
   ]
  },
  {
   "cell_type": "code",
   "execution_count": 16,
   "id": "aabb8c67",
   "metadata": {},
   "outputs": [
    {
     "data": {
      "text/html": [
       "<div>\n",
       "<style scoped>\n",
       "    .dataframe tbody tr th:only-of-type {\n",
       "        vertical-align: middle;\n",
       "    }\n",
       "\n",
       "    .dataframe tbody tr th {\n",
       "        vertical-align: top;\n",
       "    }\n",
       "\n",
       "    .dataframe thead th {\n",
       "        text-align: right;\n",
       "    }\n",
       "</style>\n",
       "<table border=\"1\" class=\"dataframe\">\n",
       "  <thead>\n",
       "    <tr style=\"text-align: right;\">\n",
       "      <th></th>\n",
       "      <th>X</th>\n",
       "      <th>TV</th>\n",
       "      <th>radio</th>\n",
       "      <th>newspaper</th>\n",
       "      <th>sales</th>\n",
       "    </tr>\n",
       "  </thead>\n",
       "  <tbody>\n",
       "    <tr>\n",
       "      <th>1</th>\n",
       "      <td>1</td>\n",
       "      <td>230.1</td>\n",
       "      <td>37.8</td>\n",
       "      <td>69.2</td>\n",
       "      <td>22.1</td>\n",
       "    </tr>\n",
       "    <tr>\n",
       "      <th>2</th>\n",
       "      <td>1</td>\n",
       "      <td>44.5</td>\n",
       "      <td>39.3</td>\n",
       "      <td>45.1</td>\n",
       "      <td>10.4</td>\n",
       "    </tr>\n",
       "    <tr>\n",
       "      <th>3</th>\n",
       "      <td>1</td>\n",
       "      <td>17.2</td>\n",
       "      <td>45.9</td>\n",
       "      <td>69.3</td>\n",
       "      <td>9.3</td>\n",
       "    </tr>\n",
       "    <tr>\n",
       "      <th>4</th>\n",
       "      <td>1</td>\n",
       "      <td>151.5</td>\n",
       "      <td>41.3</td>\n",
       "      <td>58.5</td>\n",
       "      <td>18.5</td>\n",
       "    </tr>\n",
       "    <tr>\n",
       "      <th>5</th>\n",
       "      <td>1</td>\n",
       "      <td>180.8</td>\n",
       "      <td>10.8</td>\n",
       "      <td>58.4</td>\n",
       "      <td>12.9</td>\n",
       "    </tr>\n",
       "    <tr>\n",
       "      <th>...</th>\n",
       "      <td>...</td>\n",
       "      <td>...</td>\n",
       "      <td>...</td>\n",
       "      <td>...</td>\n",
       "      <td>...</td>\n",
       "    </tr>\n",
       "    <tr>\n",
       "      <th>196</th>\n",
       "      <td>1</td>\n",
       "      <td>38.2</td>\n",
       "      <td>3.7</td>\n",
       "      <td>13.8</td>\n",
       "      <td>7.6</td>\n",
       "    </tr>\n",
       "    <tr>\n",
       "      <th>197</th>\n",
       "      <td>1</td>\n",
       "      <td>94.2</td>\n",
       "      <td>4.9</td>\n",
       "      <td>8.1</td>\n",
       "      <td>9.7</td>\n",
       "    </tr>\n",
       "    <tr>\n",
       "      <th>198</th>\n",
       "      <td>1</td>\n",
       "      <td>177.0</td>\n",
       "      <td>9.3</td>\n",
       "      <td>6.4</td>\n",
       "      <td>12.8</td>\n",
       "    </tr>\n",
       "    <tr>\n",
       "      <th>199</th>\n",
       "      <td>1</td>\n",
       "      <td>283.6</td>\n",
       "      <td>42.0</td>\n",
       "      <td>66.2</td>\n",
       "      <td>25.5</td>\n",
       "    </tr>\n",
       "    <tr>\n",
       "      <th>200</th>\n",
       "      <td>1</td>\n",
       "      <td>232.1</td>\n",
       "      <td>8.6</td>\n",
       "      <td>8.7</td>\n",
       "      <td>13.4</td>\n",
       "    </tr>\n",
       "  </tbody>\n",
       "</table>\n",
       "<p>200 rows × 5 columns</p>\n",
       "</div>"
      ],
      "text/plain": [
       "     X     TV  radio  newspaper  sales\n",
       "1    1  230.1   37.8       69.2   22.1\n",
       "2    1   44.5   39.3       45.1   10.4\n",
       "3    1   17.2   45.9       69.3    9.3\n",
       "4    1  151.5   41.3       58.5   18.5\n",
       "5    1  180.8   10.8       58.4   12.9\n",
       "..  ..    ...    ...        ...    ...\n",
       "196  1   38.2    3.7       13.8    7.6\n",
       "197  1   94.2    4.9        8.1    9.7\n",
       "198  1  177.0    9.3        6.4   12.8\n",
       "199  1  283.6   42.0       66.2   25.5\n",
       "200  1  232.1    8.6        8.7   13.4\n",
       "\n",
       "[200 rows x 5 columns]"
      ]
     },
     "execution_count": 16,
     "metadata": {},
     "output_type": "execute_result"
    }
   ],
   "source": [
    "#Going back to the Original data values\n",
    "\n",
    "#Remove column X\n",
    "df_col = df.drop(columns=['X'])\n",
    "\n",
    "df[df.columns[1:]] = df_mean + (df_col * df_std)\n",
    "\n",
    "df"
   ]
  },
  {
   "cell_type": "markdown",
   "id": "6460b7a9",
   "metadata": {},
   "source": [
    "# Cost Result Observation"
   ]
  },
  {
   "cell_type": "code",
   "execution_count": 17,
   "id": "95056db8",
   "metadata": {},
   "outputs": [
    {
     "name": "stdout",
     "output_type": "stream",
     "text": [
      "The cost of the original data is 7508.733060086956\n"
     ]
    }
   ],
   "source": [
    "#x_df data without sales\n",
    "#y__df sales data\n",
    "x_df = df.drop(columns=['sales'])\n",
    "y_df = df['sales']\n",
    "\n",
    "predicted_y = predict(x_df,actual_weights[-1])\n",
    "\n",
    "#Cost of original data\n",
    "cost_df = compute_cost(predicted_y, y_df)\n",
    "\n",
    "print(\"The cost of the original data is\", cost_df)"
   ]
  },
  {
   "cell_type": "markdown",
   "id": "29779351",
   "metadata": {},
   "source": [
    "The predict y train set cost is 0.051079827865479224 and the predict y test set cost is 0.052448649265712334 while the cost of the original data is 7508.733060086956. As you can see, it is different by a large margin where the cost from the original data is much higher compared to the other two. This would mean that our calculated weights is not fit to be used to predict the sales."
   ]
  },
  {
   "cell_type": "markdown",
   "id": "14fb0165",
   "metadata": {},
   "source": [
    "# Questions and Solutions"
   ]
  },
  {
   "cell_type": "markdown",
   "id": "4cfc94e2",
   "metadata": {},
   "source": [
    "# 1. What are the optimal weights found by your implemented gradient descent? Plug it into the linear model:  $ℎ_{𝜃}$(𝑥) = $𝜃_{0}$ + $𝜃_{1}$𝑇𝑉 + $𝜃_{2}$𝑅𝑎𝑑𝑖𝑜 + $𝜃_{3}$𝑁𝑒𝑤𝑠𝑝𝑎𝑝𝑒𝑟  "
   ]
  },
  {
   "cell_type": "markdown",
   "id": "4142ebde",
   "metadata": {},
   "source": [
    "# What are your interpretations regarding the formed linear model?"
   ]
  },
  {
   "cell_type": "code",
   "execution_count": 18,
   "id": "966b4cd8",
   "metadata": {},
   "outputs": [
    {
     "name": "stdout",
     "output_type": "stream",
     "text": [
      "The optimal weights are: [4.56992299e-04 7.37379195e-01 5.35670842e-01 3.87472836e-03]\n"
     ]
    }
   ],
   "source": [
    "#Similar to our Costs Plot above but this time, we use our initialized weights\n",
    "weights = initialize_weights()\n",
    "\n",
    "train_cost, actual_weights = grad_descent(x_train, y_train, 1000, weights)\n",
    "print(\"The optimal weights are:\", actual_weights[-1])"
   ]
  },
  {
   "cell_type": "markdown",
   "id": "f4eeca77",
   "metadata": {},
   "source": [
    "In this problem, I plugged the initialized weights for the weights. \n",
    "Thus, we have array([4.56992299e-04, 7.37379195e-01, 5.35670842e-01, 3.87472836e-03])\n",
    "Now, we will substitute the values inside the array to $𝜃_{0}$, $𝜃_{1}$, $𝜃_{2}$, and $𝜃_{3}$, respectively.\n",
    "\n",
    "So, our linear model is $ℎ_{𝜃}$(𝑥) = 4.56992299e-04 + (7.37379195e-01 * 𝑇𝑉) + (5.35670842e-01 *𝑅𝑎𝑑𝑖𝑜) + (3.87472836e-03 * 𝑁𝑒𝑤𝑠𝑝𝑎𝑝𝑒𝑟)\n",
    "\n",
    "It can be interpreted that the linear model's greatest predictor is the TV and lowest is the Newspaper. When we look at it in a real-world scenario, this is to be expected because the new generation prefers TV more."
   ]
  },
  {
   "cell_type": "markdown",
   "id": "ff8c8c73",
   "metadata": {},
   "source": [
    "# 2. Provide a scatter plot of the $(\\hat{y^{(i)}})$ and $y^{(i)}$ for both the train and test set. Is there a trend? Provide an r2 score (also available in sklearn)"
   ]
  },
  {
   "cell_type": "code",
   "execution_count": 19,
   "id": "0d77221f",
   "metadata": {},
   "outputs": [
    {
     "name": "stdout",
     "output_type": "stream",
     "text": [
      "Train set's r2 score is 0.8936787899351376\n"
     ]
    },
    {
     "data": {
      "image/png": "[encoded data removed]",
      "text/plain": [
       "<Figure size 432x288 with 1 Axes>"
      ]
     },
     "metadata": {
      "needs_background": "light"
     },
     "output_type": "display_data"
    }
   ],
   "source": [
    "#For Train set\n",
    "\n",
    "y_train_pred = predict(x_train, actual_weights[-1])\n",
    "\n",
    "plt.title(\"$(\\hat{y^{(i)}})$ and $y^{(i)}$ For Train Set Scatter Plot\")\n",
    "plt.xlabel(\"Predicted Y train\")\n",
    "plt.ylabel(\"Actual Y\")\n",
    "\n",
    "sns.scatterplot(x=y_train_pred, y=y_train)\n",
    "\n",
    "r2_train = r2_score(y_train, y_train_pred)\n",
    "print(\"Train set's r2 score is\", r2_train)"
   ]
  },
  {
   "cell_type": "code",
   "execution_count": 20,
   "id": "48a10855",
   "metadata": {},
   "outputs": [
    {
     "name": "stdout",
     "output_type": "stream",
     "text": [
      "Test set's r2 score is 0.9109837509881751\n"
     ]
    },
    {
     "data": {
      "image/png": "[encoded data removed]",
      "text/plain": [
       "<Figure size 432x288 with 1 Axes>"
      ]
     },
     "metadata": {
      "needs_background": "light"
     },
     "output_type": "display_data"
    }
   ],
   "source": [
    "#For Test set\n",
    "\n",
    "y_test_pred = predict(x_test, actual_weights[-1])\n",
    "\n",
    "plt.title(\"$(\\hat{y^{(i)}})$ and $y^{(i)}$ For Test Set Scatter Plot\")\n",
    "plt.xlabel(\"Predicted Y test\")\n",
    "plt.ylabel(\"Actual Y\")\n",
    "\n",
    "sns.scatterplot(x=y_test_pred, y=y_test)\n",
    "\n",
    "r2_test = r2_score(y_test, y_test_pred)\n",
    "print(\"Test set's r2 score is\", r2_test)"
   ]
  },
  {
   "cell_type": "markdown",
   "id": "38ada3d3",
   "metadata": {},
   "source": [
    "As we can see from both Scatter Plots, there is an upward trend."
   ]
  },
  {
   "cell_type": "markdown",
   "id": "2ab31e6b",
   "metadata": {},
   "source": [
    "# 3. What happens to the error, r2, and cost as the number of iterations increase? Show your data and proof. You can alternatively plot your result data for visualization and check until 50000 iterations or more (actually)."
   ]
  },
  {
   "cell_type": "code",
   "execution_count": 21,
   "id": "b32c6d96",
   "metadata": {},
   "outputs": [],
   "source": [
    "#We do this again but itnstead of 1000, we do 50,000 iterations\n",
    "\n",
    "weights = initialize_weights()\n",
    "train_cost2, actual_weights2 = grad_descent(x_train, y_train, 50000, weights)"
   ]
  },
  {
   "cell_type": "code",
   "execution_count": 22,
   "id": "8a5a834c",
   "metadata": {},
   "outputs": [
    {
     "name": "stdout",
     "output_type": "stream",
     "text": [
      "===For 100 Iterations===\n",
      "MAE is 0.3492286681395609\n",
      "r2 is 0.7792416238745812\n",
      "Cost is 0.10574379840365934\n"
     ]
    }
   ],
   "source": [
    "#For 100 iterations\n",
    "predicted_y100 = predict(x, actual_weights2[99])\n",
    "MAE_100 = mean_absolute_error(y, predicted_y100)\n",
    "r2_100 = r2_score(y, predicted_y100)\n",
    "\n",
    "\n",
    "print(\"===For 100 Iterations===\")\n",
    "print(\"MAE is\", MAE_100)\n",
    "print(\"r2 is\", r2_100)\n",
    "print(\"Cost is\", train_cost2[99])"
   ]
  },
  {
   "cell_type": "code",
   "execution_count": 23,
   "id": "8ce019b2",
   "metadata": {},
   "outputs": [
    {
     "name": "stdout",
     "output_type": "stream",
     "text": [
      "===For 1000 Iterations===\n",
      "MAE is 0.2399596550148806\n",
      "r2 is 0.8969142691949463\n",
      "Cost is 0.051079831065374885\n"
     ]
    }
   ],
   "source": [
    "#For 1000 iterations\n",
    "predicted_y1000 = predict(x, actual_weights2[999])\n",
    "MAE_1000 = mean_absolute_error(y, predicted_y1000)\n",
    "r2_1000 = r2_score(y, predicted_y1000)\n",
    "\n",
    "\n",
    "print(\"===For 1000 Iterations===\")\n",
    "print(\"MAE is\", MAE_1000)\n",
    "print(\"r2 is\", r2_1000)\n",
    "print(\"Cost is\", train_cost2[999])"
   ]
  },
  {
   "cell_type": "code",
   "execution_count": 24,
   "id": "32a6cd6f",
   "metadata": {},
   "outputs": [
    {
     "name": "stdout",
     "output_type": "stream",
     "text": [
      "===For 10,000 Iterations===\n",
      "MAE is 0.23988863657724152\n",
      "r2 is 0.8969225203073516\n",
      "Cost is 0.05107955472978693\n"
     ]
    }
   ],
   "source": [
    "#For 10,000 iterations\n",
    "predicted_y10000 = predict(x, actual_weights2[9999])\n",
    "MAE_10000 = mean_absolute_error(y, predicted_y10000)\n",
    "r2_10000 = r2_score(y, predicted_y10000)\n",
    "\n",
    "\n",
    "print(\"===For 10,000 Iterations===\")\n",
    "print(\"MAE is\", MAE_10000)\n",
    "print(\"r2 is\", r2_10000)\n",
    "print(\"Cost is\", train_cost2[9999])"
   ]
  },
  {
   "cell_type": "code",
   "execution_count": 25,
   "id": "69192284",
   "metadata": {},
   "outputs": [
    {
     "name": "stdout",
     "output_type": "stream",
     "text": [
      "===For 30,000 Iterations===\n",
      "MAE is 0.23988863657724152\n",
      "r2 is 0.8969225203073516\n",
      "Cost is 0.05107955472978693\n"
     ]
    }
   ],
   "source": [
    "#For 30,000 iterations\n",
    "predicted_y30000 = predict(x, actual_weights2[29999])\n",
    "MAE_30000 = mean_absolute_error(y, predicted_y30000)\n",
    "r2_30000 = r2_score(y, predicted_y30000)\n",
    "\n",
    "\n",
    "print(\"===For 30,000 Iterations===\")\n",
    "print(\"MAE is\", MAE_30000)\n",
    "print(\"r2 is\", r2_30000)\n",
    "print(\"Cost is\", train_cost2[29999])"
   ]
  },
  {
   "cell_type": "code",
   "execution_count": 26,
   "id": "969aba1d",
   "metadata": {},
   "outputs": [
    {
     "name": "stdout",
     "output_type": "stream",
     "text": [
      "===For 50,000 Iterations===\n",
      "MAE is 0.23988863657724152\n",
      "r2 is 0.8969225203073516\n",
      "Cost is 0.05107955472978693\n"
     ]
    }
   ],
   "source": [
    "#For 50,000 iterations\n",
    "predicted_y50000 = predict(x, actual_weights2[49999])\n",
    "MAE_50000 = mean_absolute_error(y, predicted_y50000)\n",
    "r2_50000 = r2_score(y, predicted_y50000)\n",
    "\n",
    "\n",
    "print(\"===For 50,000 Iterations===\")\n",
    "print(\"MAE is\", MAE_50000)\n",
    "print(\"r2 is\", r2_50000)\n",
    "print(\"Cost is\", train_cost2[49999])"
   ]
  },
  {
   "cell_type": "markdown",
   "id": "c0386d71",
   "metadata": {},
   "source": [
    "My observation is that as the number of iterations increases, the error decreases, the r2 increased but stayed the same after 10,000th iteration, and the cost had a fluctuation where it increased in the 1000th iteration then went down to the 10,000th iteration and stayed the same until the 50,000th iteration. "
   ]
  },
  {
   "cell_type": "markdown",
   "id": "e9a2cc22",
   "metadata": {},
   "source": [
    "# 4. Once you determine the optimal number of iterations, check the effect on the cost and error as you change the learning rate. The common learning rates in machine learning include 0.1, 0.01, 0.001, 0.0001, 0.2 but you have the option to include others. Visualize the cost function (vs the optimal number of iterations) of each learning rate in ONLY ONE PLOT. Provide your analysis."
   ]
  },
  {
   "cell_type": "code",
   "execution_count": 27,
   "id": "58f3c088",
   "metadata": {},
   "outputs": [
    {
     "name": "stdout",
     "output_type": "stream",
     "text": [
      "The optimal number of iterations is 395\n"
     ]
    }
   ],
   "source": [
    "#Round off the train costs to three decimal places.\n",
    "rounded_train_cost = np.round(train_cost, 3)\n",
    "\n",
    "#Look for the iteration that the cost is equal to 0.051 based on the result above.\n",
    "optimal = np.where(rounded_train_cost == 0.051)\n",
    "\n",
    "#Print the first element.\n",
    "print(\"The optimal number of iterations is\", optimal[0][0])"
   ]
  },
  {
   "cell_type": "code",
   "execution_count": 28,
   "id": "50c99592",
   "metadata": {},
   "outputs": [
    {
     "name": "stdout",
     "output_type": "stream",
     "text": [
      "If the learning rate is 0.1\n",
      "Cost is 0.051079554729786925\n",
      "MAE is 0.2398886365786446\n",
      "r2 is 0.8969225203072294\n",
      "\n",
      "\n",
      "If the learning rate is 0.01\n",
      "Cost is 0.051500250039664096\n",
      "MAE is 0.24272053055351145\n",
      "r2 is 0.8953717254069102\n",
      "\n",
      "\n",
      "If the learning rate is 0.001\n",
      "Cost is 0.23622673852442644\n",
      "MAE is 0.563782776791368\n",
      "r2 is 0.5060374784393623\n",
      "\n",
      "\n",
      "If the learning rate is 0.0001\n",
      "Cost is 0.44536428998765176\n",
      "MAE is 0.7890090157139464\n",
      "r2 is 0.07286799176886316\n",
      "\n",
      "\n",
      "If the learning rate is 0.2\n",
      "Cost is 0.051079554729786925\n",
      "MAE is 0.239888636577241\n",
      "r2 is 0.8969225203073514\n",
      "\n",
      "\n"
     ]
    }
   ],
   "source": [
    "#Checking the effect on the cost and error the learning rate changes (0.1, 0.01, 0.001, 0.0001, 0.2)\n",
    "\n",
    "learning_rate = [0.1, 0.01, 0.001, 0.0001, 0.2]\n",
    "costs = []\n",
    "optimal_iteration = optimal[0][0]\n",
    "\n",
    "for iteration in learning_rate:\n",
    "    print(\"If the learning rate is\", iteration)\n",
    "    train_costs, actual_iteration_weights = grad_descent(x_train, y_train, optimal_iteration, weights, a=iteration)\n",
    "    costs.append(train_costs)\n",
    "    \n",
    "    predicted_y_train = predict(x_train, actual_iteration_weights[-1])\n",
    "    cost_1 = compute_cost(y_train, predicted_y_train)\n",
    "    predicted_y = predict(x, actual_iteration_weights[-1])\n",
    "    computed_r2 = r2_score(y, predicted_y)\n",
    "    MAE = mean_absolute_error(y, predicted_y)\n",
    "    \n",
    "    #Printing out results\n",
    "    print(\"Cost is\", train_costs[-1])\n",
    "    print(\"MAE is\", MAE)\n",
    "    print(\"r2 is\", computed_r2)\n",
    "    print(\"\\n\")"
   ]
  },
  {
   "cell_type": "code",
   "execution_count": 29,
   "id": "06701694",
   "metadata": {},
   "outputs": [
    {
     "data": {
      "image/png": "[encoded data removed]",
      "text/plain": [
       "<Figure size 432x288 with 1 Axes>"
      ]
     },
     "metadata": {
      "needs_background": "light"
     },
     "output_type": "display_data"
    }
   ],
   "source": [
    "#Visualize the cost function\n",
    "\n",
    "cost_data_frame = pd.DataFrame(costs).T\n",
    "cost_data_frame.columns = learning_rate\n",
    "\n",
    "plt.title(\"Cost Function of Each Learning Rate\")\n",
    "plt.xlabel(\"Iterations\")\n",
    "plt.ylabel(\"Cost\")\n",
    "sns.lineplot(data=cost_data_frame)\n",
    "plt.show()"
   ]
  },
  {
   "cell_type": "markdown",
   "id": "9dfb2278",
   "metadata": {},
   "source": [
    "Looking at the above plot, we can infer that the rates 0.2, 0.1, and 0.01 reached the lowest cost. This can be supported by the result above where their costs are almost similar (0.05) with little difference. While 0.001 and 0.0001 did not because their cost went above the other 3 rates. Additionally, we can also say that 0.1 and 0.2 reached the lowest cost because both of them got 0.051079554729786925. \n",
    "\n",
    "For the Error, 0.2 got the lowest while 0.1 got the highest. Also, for the r2, 0.001 got the lowest while the highest one was 0.2."
   ]
  },
  {
   "cell_type": "markdown",
   "id": "9f5ccafb",
   "metadata": {},
   "source": [
    "# 5. Is there a relationship on the learning rate and the number of iterations?"
   ]
  },
  {
   "cell_type": "markdown",
   "id": "ff5029d6",
   "metadata": {},
   "source": [
    "Yes, and it is called an inverse relationship. It is called an inverse relationship because as the learning rate increases, the iterations to get to the optimal cost decreases. It is also described as a negative relationship."
   ]
  },
  {
   "cell_type": "markdown",
   "id": "2afa3f9e",
   "metadata": {},
   "source": [
    "# 6. Compare the results with the results of ordinary least squares function. "
   ]
  },
  {
   "cell_type": "code",
   "execution_count": 30,
   "id": "918ee498",
   "metadata": {},
   "outputs": [
    {
     "data": {
      "text/plain": [
       "array([ 0.44441111,  1.30168679,  1.43691235, -0.66730857,  1.55533551,\n",
       "       -0.19033088,  1.34451196, -1.25613029, -0.07239572,  0.21395403,\n",
       "       -0.9477649 , -1.4143734 ,  0.04187445, -0.9794427 , -0.82941714,\n",
       "       -0.35860114, -1.02352749,  0.43360346, -0.72253191,  0.92669059,\n",
       "        1.04134773, -0.18638735, -0.32341141,  1.3765889 , -1.1785509 ,\n",
       "       -1.57241482,  1.28461088, -0.38557956, -0.92832092, -1.05226106])"
      ]
     },
     "execution_count": 30,
     "metadata": {},
     "output_type": "execute_result"
    }
   ],
   "source": [
    "#Using Linear Regression\n",
    "\n",
    "linear_regression = LinearRegression().fit(x_train,y_train)\n",
    "linear_predicted_y = linear_regression.predict(x_test)\n",
    "linear_predicted_y"
   ]
  },
  {
   "cell_type": "code",
   "execution_count": 31,
   "id": "68b42eae",
   "metadata": {},
   "outputs": [
    {
     "name": "stdout",
     "output_type": "stream",
     "text": [
      "r2 score using linear regression is 0.9110275702091714\n"
     ]
    }
   ],
   "source": [
    "#r2 \n",
    "r2 = linear_regression.score(x_test,y_test)\n",
    "print(\"r2 score using linear regression is\", r2)"
   ]
  },
  {
   "cell_type": "code",
   "execution_count": 32,
   "id": "49c2abce",
   "metadata": {},
   "outputs": [
    {
     "data": {
      "text/plain": [
       "array([ 0.45632242,  1.28440583,  1.42255522, -0.6482762 ,  1.47624351,\n",
       "       -0.16993274,  1.30064552, -1.2352999 , -0.07222912,  0.21357984,\n",
       "       -0.96178875, -1.37293563,  0.1208764 , -0.98922631, -0.79911416,\n",
       "       -0.33197871, -0.9948767 ,  0.40902538, -0.70284619,  0.88597173,\n",
       "        1.06582203, -0.09822649, -0.35109566,  1.3892682 , -1.1769486 ,\n",
       "       -1.53434624,  1.2500434 , -0.39232188, -0.90517284, -1.0666816 ])"
      ]
     },
     "execution_count": 32,
     "metadata": {},
     "output_type": "execute_result"
    }
   ],
   "source": [
    "#We use the weight of the optimal iteration of the gradient descent\n",
    "optimal_predicted_y = predict(x_test, actual_weights[394])\n",
    "optimal_predicted_y"
   ]
  },
  {
   "cell_type": "code",
   "execution_count": 33,
   "id": "6f3dd6c0",
   "metadata": {},
   "outputs": [
    {
     "name": "stdout",
     "output_type": "stream",
     "text": [
      "r2 score using the optimal weight is 0.906288920753653\n"
     ]
    }
   ],
   "source": [
    "#calculate the r2 score\n",
    "optimal_r2 = r2_score(y_test, optimal_predicted_y)\n",
    "print(\"r2 score using the optimal weight is\", optimal_r2)"
   ]
  },
  {
   "cell_type": "markdown",
   "id": "e8dbdc2c",
   "metadata": {},
   "source": [
    "The r2 score using linear regression is 0.9110275702091714 while the r2 score using the optimal weight is 0.906288920753653. We can se that the r2 score using linear regression is much higher that when we use the r2 score using our optimal weight. This only indicates that the linear regression is better suited for the model."
   ]
  },
  {
   "cell_type": "markdown",
   "id": "9f9aa1d8",
   "metadata": {},
   "source": [
    "# -END-"
   ]
  }
 ],
 "metadata": {
  "kernelspec": {
   "display_name": "Python 3 (ipykernel)",
   "language": "python",
   "name": "python3"
  },
  "language_info": {
   "codemirror_mode": {
    "name": "ipython",
    "version": 3
   },
   "file_extension": ".py",
   "mimetype": "text/x-python",
   "name": "python",
   "nbconvert_exporter": "python",
   "pygments_lexer": "ipython3",
   "version": "3.9.12"
  }
 },
 "nbformat": 4,
 "nbformat_minor": 5
}
